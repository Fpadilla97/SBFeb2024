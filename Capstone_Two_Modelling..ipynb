{
 "cells": [
  {
   "cell_type": "code",
   "execution_count": 1,
   "id": "c7aa60d4",
   "metadata": {},
   "outputs": [],
   "source": [
    "import pandas as pd\n",
    "from sklearn.linear_model import LinearRegression\n",
    "from sklearn.ensemble import RandomForestRegressor\n",
    "from sklearn.svm import SVR\n",
    "from sklearn.metrics import mean_squared_error, r2_score"
   ]
  },
  {
   "cell_type": "markdown",
   "id": "a42cd50b",
   "metadata": {},
   "source": [
    "## Step 1: Load preprocessed training and testing data"
   ]
  },
  {
   "cell_type": "code",
   "execution_count": 2,
   "id": "4227a6f5",
   "metadata": {},
   "outputs": [],
   "source": [
    "X_train = pd.read_csv(\"X_train_preprocessed.csv\")\n",
    "X_test = pd.read_csv(\"X_test_preprocessed.csv\")\n",
    "y_train = pd.read_csv(\"y_train_preprocessed.csv\")\n",
    "y_test = pd.read_csv(\"y_test_preprocessed.csv\")"
   ]
  },
  {
   "cell_type": "markdown",
   "id": "0681ccc9",
   "metadata": {},
   "source": [
    "## Ensure y_train and y_test are in the correct format (1D array)"
   ]
  },
  {
   "cell_type": "code",
   "execution_count": 3,
   "id": "fb3c2def",
   "metadata": {},
   "outputs": [],
   "source": [
    "y_train = y_train.values.ravel()\n",
    "y_test = y_test.values.ravel()"
   ]
  },
  {
   "cell_type": "markdown",
   "id": "f6dde792",
   "metadata": {},
   "source": [
    "## Step 1: Fit the Linear Regression model"
   ]
  },
  {
   "cell_type": "code",
   "execution_count": 4,
   "id": "0dcbd08d",
   "metadata": {},
   "outputs": [
    {
     "data": {
      "text/html": [
       "<div>\n",
       "<style scoped>\n",
       "    .dataframe tbody tr th:only-of-type {\n",
       "        vertical-align: middle;\n",
       "    }\n",
       "\n",
       "    .dataframe tbody tr th {\n",
       "        vertical-align: top;\n",
       "    }\n",
       "\n",
       "    .dataframe thead th {\n",
       "        text-align: right;\n",
       "    }\n",
       "</style>\n",
       "<table border=\"1\" class=\"dataframe\">\n",
       "  <thead>\n",
       "    <tr style=\"text-align: right;\">\n",
       "      <th></th>\n",
       "      <th>ProductID</th>\n",
       "      <th>Price</th>\n",
       "      <th>Rating</th>\n",
       "      <th>NumReviews</th>\n",
       "      <th>StockQuantity</th>\n",
       "      <th>Discount</th>\n",
       "      <th>Year</th>\n",
       "      <th>Month</th>\n",
       "      <th>ProductName_Ankle Socks</th>\n",
       "      <th>ProductName_Art Print</th>\n",
       "      <th>...</th>\n",
       "      <th>City_St. Louis</th>\n",
       "      <th>City_Staten Island</th>\n",
       "      <th>City_Tampa</th>\n",
       "      <th>City_Toledo</th>\n",
       "      <th>City_Tucson</th>\n",
       "      <th>City_Tulsa</th>\n",
       "      <th>City_Virginia Beach</th>\n",
       "      <th>City_Washington</th>\n",
       "      <th>City_Wichita</th>\n",
       "      <th>City_Worcester</th>\n",
       "    </tr>\n",
       "  </thead>\n",
       "  <tbody>\n",
       "    <tr>\n",
       "      <th>0</th>\n",
       "      <td>57</td>\n",
       "      <td>0.012272</td>\n",
       "      <td>0.151596</td>\n",
       "      <td>1.444262</td>\n",
       "      <td>-1.641518</td>\n",
       "      <td>-1.445812</td>\n",
       "      <td>2023</td>\n",
       "      <td>9</td>\n",
       "      <td>False</td>\n",
       "      <td>False</td>\n",
       "      <td>...</td>\n",
       "      <td>False</td>\n",
       "      <td>False</td>\n",
       "      <td>False</td>\n",
       "      <td>False</td>\n",
       "      <td>False</td>\n",
       "      <td>False</td>\n",
       "      <td>False</td>\n",
       "      <td>False</td>\n",
       "      <td>False</td>\n",
       "      <td>False</td>\n",
       "    </tr>\n",
       "    <tr>\n",
       "      <th>1</th>\n",
       "      <td>956</td>\n",
       "      <td>-1.247307</td>\n",
       "      <td>-1.586888</td>\n",
       "      <td>-0.704784</td>\n",
       "      <td>0.893909</td>\n",
       "      <td>-1.514127</td>\n",
       "      <td>2024</td>\n",
       "      <td>5</td>\n",
       "      <td>False</td>\n",
       "      <td>False</td>\n",
       "      <td>...</td>\n",
       "      <td>False</td>\n",
       "      <td>False</td>\n",
       "      <td>False</td>\n",
       "      <td>False</td>\n",
       "      <td>False</td>\n",
       "      <td>False</td>\n",
       "      <td>False</td>\n",
       "      <td>False</td>\n",
       "      <td>False</td>\n",
       "      <td>False</td>\n",
       "    </tr>\n",
       "    <tr>\n",
       "      <th>2</th>\n",
       "      <td>232</td>\n",
       "      <td>-0.488036</td>\n",
       "      <td>0.064672</td>\n",
       "      <td>-0.100343</td>\n",
       "      <td>0.002067</td>\n",
       "      <td>0.671943</td>\n",
       "      <td>2024</td>\n",
       "      <td>1</td>\n",
       "      <td>False</td>\n",
       "      <td>False</td>\n",
       "      <td>...</td>\n",
       "      <td>False</td>\n",
       "      <td>True</td>\n",
       "      <td>False</td>\n",
       "      <td>False</td>\n",
       "      <td>False</td>\n",
       "      <td>False</td>\n",
       "      <td>False</td>\n",
       "      <td>False</td>\n",
       "      <td>False</td>\n",
       "      <td>False</td>\n",
       "    </tr>\n",
       "    <tr>\n",
       "      <th>3</th>\n",
       "      <td>739</td>\n",
       "      <td>-0.295016</td>\n",
       "      <td>-1.065343</td>\n",
       "      <td>1.293835</td>\n",
       "      <td>-1.313485</td>\n",
       "      <td>-1.240868</td>\n",
       "      <td>2023</td>\n",
       "      <td>7</td>\n",
       "      <td>False</td>\n",
       "      <td>False</td>\n",
       "      <td>...</td>\n",
       "      <td>False</td>\n",
       "      <td>False</td>\n",
       "      <td>False</td>\n",
       "      <td>False</td>\n",
       "      <td>False</td>\n",
       "      <td>False</td>\n",
       "      <td>False</td>\n",
       "      <td>False</td>\n",
       "      <td>False</td>\n",
       "      <td>False</td>\n",
       "    </tr>\n",
       "    <tr>\n",
       "      <th>4</th>\n",
       "      <td>741</td>\n",
       "      <td>-0.284262</td>\n",
       "      <td>1.368534</td>\n",
       "      <td>0.067177</td>\n",
       "      <td>1.385960</td>\n",
       "      <td>-1.650756</td>\n",
       "      <td>2023</td>\n",
       "      <td>7</td>\n",
       "      <td>False</td>\n",
       "      <td>False</td>\n",
       "      <td>...</td>\n",
       "      <td>False</td>\n",
       "      <td>False</td>\n",
       "      <td>False</td>\n",
       "      <td>False</td>\n",
       "      <td>False</td>\n",
       "      <td>False</td>\n",
       "      <td>False</td>\n",
       "      <td>False</td>\n",
       "      <td>False</td>\n",
       "      <td>False</td>\n",
       "    </tr>\n",
       "    <tr>\n",
       "      <th>...</th>\n",
       "      <td>...</td>\n",
       "      <td>...</td>\n",
       "      <td>...</td>\n",
       "      <td>...</td>\n",
       "      <td>...</td>\n",
       "      <td>...</td>\n",
       "      <td>...</td>\n",
       "      <td>...</td>\n",
       "      <td>...</td>\n",
       "      <td>...</td>\n",
       "      <td>...</td>\n",
       "      <td>...</td>\n",
       "      <td>...</td>\n",
       "      <td>...</td>\n",
       "      <td>...</td>\n",
       "      <td>...</td>\n",
       "      <td>...</td>\n",
       "      <td>...</td>\n",
       "      <td>...</td>\n",
       "      <td>...</td>\n",
       "      <td>...</td>\n",
       "    </tr>\n",
       "    <tr>\n",
       "      <th>795</th>\n",
       "      <td>242</td>\n",
       "      <td>1.740108</td>\n",
       "      <td>-1.586888</td>\n",
       "      <td>0.501362</td>\n",
       "      <td>0.630799</td>\n",
       "      <td>1.696664</td>\n",
       "      <td>2024</td>\n",
       "      <td>3</td>\n",
       "      <td>False</td>\n",
       "      <td>False</td>\n",
       "      <td>...</td>\n",
       "      <td>False</td>\n",
       "      <td>False</td>\n",
       "      <td>False</td>\n",
       "      <td>False</td>\n",
       "      <td>False</td>\n",
       "      <td>False</td>\n",
       "      <td>False</td>\n",
       "      <td>False</td>\n",
       "      <td>False</td>\n",
       "      <td>False</td>\n",
       "    </tr>\n",
       "    <tr>\n",
       "      <th>796</th>\n",
       "      <td>254</td>\n",
       "      <td>1.129139</td>\n",
       "      <td>0.064672</td>\n",
       "      <td>-0.829227</td>\n",
       "      <td>-0.496817</td>\n",
       "      <td>1.218461</td>\n",
       "      <td>2024</td>\n",
       "      <td>1</td>\n",
       "      <td>False</td>\n",
       "      <td>False</td>\n",
       "      <td>...</td>\n",
       "      <td>False</td>\n",
       "      <td>False</td>\n",
       "      <td>False</td>\n",
       "      <td>False</td>\n",
       "      <td>False</td>\n",
       "      <td>False</td>\n",
       "      <td>False</td>\n",
       "      <td>False</td>\n",
       "      <td>False</td>\n",
       "      <td>False</td>\n",
       "    </tr>\n",
       "    <tr>\n",
       "      <th>797</th>\n",
       "      <td>391</td>\n",
       "      <td>-0.340229</td>\n",
       "      <td>1.368534</td>\n",
       "      <td>1.483919</td>\n",
       "      <td>-1.528757</td>\n",
       "      <td>-0.967609</td>\n",
       "      <td>2023</td>\n",
       "      <td>9</td>\n",
       "      <td>False</td>\n",
       "      <td>False</td>\n",
       "      <td>...</td>\n",
       "      <td>False</td>\n",
       "      <td>False</td>\n",
       "      <td>False</td>\n",
       "      <td>False</td>\n",
       "      <td>False</td>\n",
       "      <td>False</td>\n",
       "      <td>False</td>\n",
       "      <td>False</td>\n",
       "      <td>False</td>\n",
       "      <td>False</td>\n",
       "    </tr>\n",
       "    <tr>\n",
       "      <th>798</th>\n",
       "      <td>668</td>\n",
       "      <td>-0.995632</td>\n",
       "      <td>0.933913</td>\n",
       "      <td>-0.935209</td>\n",
       "      <td>0.118246</td>\n",
       "      <td>-1.309183</td>\n",
       "      <td>2023</td>\n",
       "      <td>8</td>\n",
       "      <td>False</td>\n",
       "      <td>False</td>\n",
       "      <td>...</td>\n",
       "      <td>False</td>\n",
       "      <td>False</td>\n",
       "      <td>False</td>\n",
       "      <td>False</td>\n",
       "      <td>False</td>\n",
       "      <td>False</td>\n",
       "      <td>False</td>\n",
       "      <td>False</td>\n",
       "      <td>False</td>\n",
       "      <td>False</td>\n",
       "    </tr>\n",
       "    <tr>\n",
       "      <th>799</th>\n",
       "      <td>844</td>\n",
       "      <td>-0.624451</td>\n",
       "      <td>-0.978418</td>\n",
       "      <td>0.112305</td>\n",
       "      <td>1.348372</td>\n",
       "      <td>-1.377498</td>\n",
       "      <td>2024</td>\n",
       "      <td>3</td>\n",
       "      <td>False</td>\n",
       "      <td>False</td>\n",
       "      <td>...</td>\n",
       "      <td>False</td>\n",
       "      <td>False</td>\n",
       "      <td>False</td>\n",
       "      <td>False</td>\n",
       "      <td>False</td>\n",
       "      <td>False</td>\n",
       "      <td>False</td>\n",
       "      <td>False</td>\n",
       "      <td>False</td>\n",
       "      <td>False</td>\n",
       "    </tr>\n",
       "  </tbody>\n",
       "</table>\n",
       "<p>800 rows × 231 columns</p>\n",
       "</div>"
      ],
      "text/plain": [
       "     ProductID     Price    Rating  NumReviews  StockQuantity  Discount  Year  \\\n",
       "0           57  0.012272  0.151596    1.444262      -1.641518 -1.445812  2023   \n",
       "1          956 -1.247307 -1.586888   -0.704784       0.893909 -1.514127  2024   \n",
       "2          232 -0.488036  0.064672   -0.100343       0.002067  0.671943  2024   \n",
       "3          739 -0.295016 -1.065343    1.293835      -1.313485 -1.240868  2023   \n",
       "4          741 -0.284262  1.368534    0.067177       1.385960 -1.650756  2023   \n",
       "..         ...       ...       ...         ...            ...       ...   ...   \n",
       "795        242  1.740108 -1.586888    0.501362       0.630799  1.696664  2024   \n",
       "796        254  1.129139  0.064672   -0.829227      -0.496817  1.218461  2024   \n",
       "797        391 -0.340229  1.368534    1.483919      -1.528757 -0.967609  2023   \n",
       "798        668 -0.995632  0.933913   -0.935209       0.118246 -1.309183  2023   \n",
       "799        844 -0.624451 -0.978418    0.112305       1.348372 -1.377498  2024   \n",
       "\n",
       "     Month  ProductName_Ankle Socks  ProductName_Art Print  ...  \\\n",
       "0        9                    False                  False  ...   \n",
       "1        5                    False                  False  ...   \n",
       "2        1                    False                  False  ...   \n",
       "3        7                    False                  False  ...   \n",
       "4        7                    False                  False  ...   \n",
       "..     ...                      ...                    ...  ...   \n",
       "795      3                    False                  False  ...   \n",
       "796      1                    False                  False  ...   \n",
       "797      9                    False                  False  ...   \n",
       "798      8                    False                  False  ...   \n",
       "799      3                    False                  False  ...   \n",
       "\n",
       "     City_St. Louis  City_Staten Island  City_Tampa  City_Toledo  City_Tucson  \\\n",
       "0             False               False       False        False        False   \n",
       "1             False               False       False        False        False   \n",
       "2             False                True       False        False        False   \n",
       "3             False               False       False        False        False   \n",
       "4             False               False       False        False        False   \n",
       "..              ...                 ...         ...          ...          ...   \n",
       "795           False               False       False        False        False   \n",
       "796           False               False       False        False        False   \n",
       "797           False               False       False        False        False   \n",
       "798           False               False       False        False        False   \n",
       "799           False               False       False        False        False   \n",
       "\n",
       "     City_Tulsa  City_Virginia Beach  City_Washington  City_Wichita  \\\n",
       "0         False                False            False         False   \n",
       "1         False                False            False         False   \n",
       "2         False                False            False         False   \n",
       "3         False                False            False         False   \n",
       "4         False                False            False         False   \n",
       "..          ...                  ...              ...           ...   \n",
       "795       False                False            False         False   \n",
       "796       False                False            False         False   \n",
       "797       False                False            False         False   \n",
       "798       False                False            False         False   \n",
       "799       False                False            False         False   \n",
       "\n",
       "     City_Worcester  \n",
       "0             False  \n",
       "1             False  \n",
       "2             False  \n",
       "3             False  \n",
       "4             False  \n",
       "..              ...  \n",
       "795           False  \n",
       "796           False  \n",
       "797           False  \n",
       "798           False  \n",
       "799           False  \n",
       "\n",
       "[800 rows x 231 columns]"
      ]
     },
     "execution_count": 4,
     "metadata": {},
     "output_type": "execute_result"
    }
   ],
   "source": [
    "X_train"
   ]
  },
  {
   "cell_type": "markdown",
   "id": "2c910a48",
   "metadata": {},
   "source": [
    "<div class=\"alert alert-block alert-info\" style=\"font-size: 25px; font-weight: bold;\">\n",
    "    <p>LinearRegression formula:</p>\n",
    "    <p>Y= $β_{o}$ + $β_{1}$X - ε </p>\n",
    "    where $β_{o}$ is intercept , $β_{1}$ is cofficient and (ε) is the error which accurs due to absence of some related features \n",
    "    \n",
    "</div>"
   ]
  },
  {
   "cell_type": "code",
   "execution_count": 5,
   "id": "72edfc49",
   "metadata": {
    "scrolled": false
   },
   "outputs": [
    {
     "data": {
      "text/html": [
       "<style>#sk-container-id-1 {color: black;}#sk-container-id-1 pre{padding: 0;}#sk-container-id-1 div.sk-toggleable {background-color: white;}#sk-container-id-1 label.sk-toggleable__label {cursor: pointer;display: block;width: 100%;margin-bottom: 0;padding: 0.3em;box-sizing: border-box;text-align: center;}#sk-container-id-1 label.sk-toggleable__label-arrow:before {content: \"▸\";float: left;margin-right: 0.25em;color: #696969;}#sk-container-id-1 label.sk-toggleable__label-arrow:hover:before {color: black;}#sk-container-id-1 div.sk-estimator:hover label.sk-toggleable__label-arrow:before {color: black;}#sk-container-id-1 div.sk-toggleable__content {max-height: 0;max-width: 0;overflow: hidden;text-align: left;background-color: #f0f8ff;}#sk-container-id-1 div.sk-toggleable__content pre {margin: 0.2em;color: black;border-radius: 0.25em;background-color: #f0f8ff;}#sk-container-id-1 input.sk-toggleable__control:checked~div.sk-toggleable__content {max-height: 200px;max-width: 100%;overflow: auto;}#sk-container-id-1 input.sk-toggleable__control:checked~label.sk-toggleable__label-arrow:before {content: \"▾\";}#sk-container-id-1 div.sk-estimator input.sk-toggleable__control:checked~label.sk-toggleable__label {background-color: #d4ebff;}#sk-container-id-1 div.sk-label input.sk-toggleable__control:checked~label.sk-toggleable__label {background-color: #d4ebff;}#sk-container-id-1 input.sk-hidden--visually {border: 0;clip: rect(1px 1px 1px 1px);clip: rect(1px, 1px, 1px, 1px);height: 1px;margin: -1px;overflow: hidden;padding: 0;position: absolute;width: 1px;}#sk-container-id-1 div.sk-estimator {font-family: monospace;background-color: #f0f8ff;border: 1px dotted black;border-radius: 0.25em;box-sizing: border-box;margin-bottom: 0.5em;}#sk-container-id-1 div.sk-estimator:hover {background-color: #d4ebff;}#sk-container-id-1 div.sk-parallel-item::after {content: \"\";width: 100%;border-bottom: 1px solid gray;flex-grow: 1;}#sk-container-id-1 div.sk-label:hover label.sk-toggleable__label {background-color: #d4ebff;}#sk-container-id-1 div.sk-serial::before {content: \"\";position: absolute;border-left: 1px solid gray;box-sizing: border-box;top: 0;bottom: 0;left: 50%;z-index: 0;}#sk-container-id-1 div.sk-serial {display: flex;flex-direction: column;align-items: center;background-color: white;padding-right: 0.2em;padding-left: 0.2em;position: relative;}#sk-container-id-1 div.sk-item {position: relative;z-index: 1;}#sk-container-id-1 div.sk-parallel {display: flex;align-items: stretch;justify-content: center;background-color: white;position: relative;}#sk-container-id-1 div.sk-item::before, #sk-container-id-1 div.sk-parallel-item::before {content: \"\";position: absolute;border-left: 1px solid gray;box-sizing: border-box;top: 0;bottom: 0;left: 50%;z-index: -1;}#sk-container-id-1 div.sk-parallel-item {display: flex;flex-direction: column;z-index: 1;position: relative;background-color: white;}#sk-container-id-1 div.sk-parallel-item:first-child::after {align-self: flex-end;width: 50%;}#sk-container-id-1 div.sk-parallel-item:last-child::after {align-self: flex-start;width: 50%;}#sk-container-id-1 div.sk-parallel-item:only-child::after {width: 0;}#sk-container-id-1 div.sk-dashed-wrapped {border: 1px dashed gray;margin: 0 0.4em 0.5em 0.4em;box-sizing: border-box;padding-bottom: 0.4em;background-color: white;}#sk-container-id-1 div.sk-label label {font-family: monospace;font-weight: bold;display: inline-block;line-height: 1.2em;}#sk-container-id-1 div.sk-label-container {text-align: center;}#sk-container-id-1 div.sk-container {/* jupyter's `normalize.less` sets `[hidden] { display: none; }` but bootstrap.min.css set `[hidden] { display: none !important; }` so we also need the `!important` here to be able to override the default hidden behavior on the sphinx rendered scikit-learn.org. See: https://github.com/scikit-learn/scikit-learn/issues/21755 */display: inline-block !important;position: relative;}#sk-container-id-1 div.sk-text-repr-fallback {display: none;}</style><div id=\"sk-container-id-1\" class=\"sk-top-container\"><div class=\"sk-text-repr-fallback\"><pre>LinearRegression()</pre><b>In a Jupyter environment, please rerun this cell to show the HTML representation or trust the notebook. <br />On GitHub, the HTML representation is unable to render, please try loading this page with nbviewer.org.</b></div><div class=\"sk-container\" hidden><div class=\"sk-item\"><div class=\"sk-estimator sk-toggleable\"><input class=\"sk-toggleable__control sk-hidden--visually\" id=\"sk-estimator-id-1\" type=\"checkbox\" checked><label for=\"sk-estimator-id-1\" class=\"sk-toggleable__label sk-toggleable__label-arrow\">LinearRegression</label><div class=\"sk-toggleable__content\"><pre>LinearRegression()</pre></div></div></div></div></div>"
      ],
      "text/plain": [
       "LinearRegression()"
      ]
     },
     "execution_count": 5,
     "metadata": {},
     "output_type": "execute_result"
    }
   ],
   "source": [
    "linear_model = LinearRegression()\n",
    "linear_model.fit(X_train, y_train)"
   ]
  },
  {
   "cell_type": "code",
   "execution_count": 6,
   "id": "de0e729d",
   "metadata": {},
   "outputs": [
    {
     "data": {
      "text/plain": [
       "-2477464617.508099"
      ]
     },
     "execution_count": 6,
     "metadata": {},
     "output_type": "execute_result"
    }
   ],
   "source": [
    "intercept = linear_model.intercept_   # generating the intercepts β𝑜\n",
    "intercept"
   ]
  },
  {
   "cell_type": "code",
   "execution_count": 7,
   "id": "658a9328",
   "metadata": {
    "scrolled": true
   },
   "outputs": [
    {
     "data": {
      "text/plain": [
       "array([ 2.33332888e-03,  7.93782494e-02,  3.99583447e-02,  7.19779058e-02,\n",
       "        1.82233261e-02,  3.92987102e-02, -8.86021239e-02, -8.47105500e-03,\n",
       "        3.89786036e+09,  3.92906539e+09, -8.71013792e+09,  1.12122756e+09,\n",
       "        2.94557218e+09,  8.33169085e+08, -3.64169814e+09,  4.07898415e+09,\n",
       "       -6.77563727e-01,  1.12122756e+09,  1.12122756e+09, -3.61257759e+09,\n",
       "        4.80145077e+09, -4.86954303e+09,  4.80145077e+09,  2.47746480e+09,\n",
       "        2.47746480e+09,  3.92906539e+09, -4.86954303e+09,  9.57013809e+09,\n",
       "       -3.88717771e+09, -3.64169814e+09, -1.70802970e+09, -8.71013792e+09,\n",
       "        3.89786036e+09, -8.63461933e+09, -3.84266702e+09,  3.92906539e+09,\n",
       "       -4.90945194e+08,  9.57013809e+09, -3.61257759e+09, -3.61257759e+09,\n",
       "       -4.92000875e+09,  9.22289599e+09,  8.33169085e+08, -1.14830442e+09,\n",
       "        9.22289599e+09,  4.07898415e+09,  3.92906539e+09, -4.90945194e+08,\n",
       "       -4.90945194e+08,  9.40073871e+09, -4.92000875e+09,  4.50640184e+08,\n",
       "        4.50640184e+08,  3.89786036e+09,  9.40073871e+09, -3.84266702e+09,\n",
       "       -8.71013792e+09,  4.07898415e+09,  4.07898415e+09, -3.64169814e+09,\n",
       "       -3.88717771e+09, -4.92000875e+09, -1.14830442e+09, -8.63461933e+09,\n",
       "       -8.63461933e+09, -8.63461933e+09,  8.33169085e+08, -4.86954303e+09,\n",
       "        2.47746480e+09,  4.80145077e+09, -3.61257759e+09,  9.57013809e+09,\n",
       "        2.94557218e+09, -1.14830442e+09,  1.67535186e-01, -3.84266702e+09,\n",
       "       -5.84968912e+08, -4.92000875e+09, -5.84968911e+08, -4.90945194e+08,\n",
       "        2.94557218e+09,  8.33169085e+08,  9.57013809e+09,  1.12122756e+09,\n",
       "       -8.71013792e+09,  2.47746480e+09,  9.40073871e+09,  9.40073871e+09,\n",
       "        2.94557218e+09, -4.86954303e+09, -5.84968912e+08, -3.88717771e+09,\n",
       "        4.50640184e+08,  4.50640184e+08, -1.70802970e+09,  4.80145077e+09,\n",
       "        9.22289599e+09, -3.64169814e+09, -3.88717771e+09,  8.78505558e-01,\n",
       "       -1.14830442e+09, -1.70802970e+09,  9.22289599e+09, -5.84968911e+08,\n",
       "       -1.70802970e+09, -3.84266702e+09,  3.89786036e+09,  1.35623724e+09,\n",
       "        1.11876027e+10,  7.39747354e+09, -6.74543119e+09,  1.64429571e+09,\n",
       "       -4.68107386e+08,  2.02682461e+09,  6.32013182e+09,  2.96840999e+09,\n",
       "        4.18549450e+09, -6.92327391e+09,  6.11916294e+09, -1.60151936e+09,\n",
       "       -7.09267329e+09,  7.34700783e+09,  1.11120841e+10,  6.09004238e+09,\n",
       "       -1.45160059e+09,  6.36464250e+09, -1.42039557e+09,  2.47746480e+09,\n",
       "       -2.32398598e+09,  3.62576922e+09,  3.06243371e+09,  5.83637208e-02,\n",
       "       -1.30320871e+00, -5.54008424e-01, -5.26240192e-01, -1.10901940e+00,\n",
       "       -4.27330434e-01, -1.95385396e-01, -1.04944886e+00, -1.44089448e+00,\n",
       "       -4.21248741e-01, -7.47146994e-01, -8.19245279e-02, -9.41739861e-01,\n",
       "       -4.87074822e-01, -9.07835133e-01,  1.20595258e-01, -8.38656276e-01,\n",
       "       -6.73411027e-01, -3.36599946e-01, -6.72434300e-01, -9.60872620e-01,\n",
       "       -2.14556679e-01, -1.00691504e+00, -5.27572822e-01, -8.07602569e-01,\n",
       "       -1.19377661e+00, -1.07713374e+00, -1.16453768e+00, -2.96480618e-02,\n",
       "       -1.98646709e-01, -6.40562855e-01, -6.42566185e-01, -1.39015803e+00,\n",
       "       -7.56591378e-01, -7.65407838e-01, -8.44916150e-01, -7.01811466e-01,\n",
       "       -9.66296121e-01, -4.68861148e-01, -5.73827654e-01, -7.55367048e-01,\n",
       "       -1.05584492e+00, -8.31105902e-01, -1.02685903e+00, -5.41776784e-01,\n",
       "       -1.33871862e+00, -1.40370716e+00, -8.76121528e-01, -6.42567102e-01,\n",
       "       -5.23876548e-01, -1.10400099e+00,  1.87151112e-01, -9.00086939e-01,\n",
       "       -1.50302231e-01, -7.04605576e-01, -1.33649793e+00,  1.95327654e-01,\n",
       "        1.68827355e-01, -1.00227427e+00, -5.67204138e-01, -7.97813326e-01,\n",
       "       -1.08784348e-01, -7.85169087e-01, -1.21718459e-01, -6.78277001e-01,\n",
       "       -6.03983771e-01, -7.84184515e-01, -5.85754961e-01,  5.10512572e-02,\n",
       "        1.18131071e-01, -6.26667034e-01, -1.11464143e+00, -6.46326348e-01,\n",
       "       -1.26825660e-01, -1.24163985e-01, -4.85896800e-01,  5.98784797e-02,\n",
       "       -6.87255802e-01, -1.83039054e+00, -6.40123922e-01, -1.19266666e+00,\n",
       "       -6.24900386e-01, -6.87676303e-01, -1.17456116e+00, -4.28601585e-01,\n",
       "       -7.39649132e-01, -9.26665995e-01, -9.93574895e-01, -4.05309580e-01,\n",
       "       -9.30742741e-01, -3.60058727e-01, -3.74678381e-01, -1.05686247e+00,\n",
       "       -1.28896651e+00, -1.55149753e-01, -5.81699416e-01, -1.03890389e+00,\n",
       "       -9.13384676e-01, -1.50472746e+00, -8.05860385e-02])"
      ]
     },
     "execution_count": 7,
     "metadata": {},
     "output_type": "execute_result"
    }
   ],
   "source": [
    "slope = linear_model.coef_\n",
    "slope"
   ]
  },
  {
   "cell_type": "markdown",
   "id": "d225ef12",
   "metadata": {},
   "source": [
    "## Step 2: Fit the Random Forest Regressor model"
   ]
  },
  {
   "cell_type": "markdown",
   "id": "880ffb1a",
   "metadata": {},
   "source": [
    "<div class=\"alert alert-block alert-info\" style=\"font-size: 25px; font-weight: bold;\">\n",
    "    <p>Random Forest formula:</p>\n",
    "    <p>Y = $\\frac{1}{N}\\sum_{i=1}^{N} f_i(X)$</p>\n",
    "    where $f_i(X)$ is the prediction of the $i^{th}$ decision tree in the forest, and $N$ is the total number of trees in the forest.\n",
    "</div>"
   ]
  },
  {
   "cell_type": "code",
   "execution_count": 8,
   "id": "75a9618e",
   "metadata": {},
   "outputs": [
    {
     "data": {
      "text/html": [
       "<style>#sk-container-id-2 {color: black;}#sk-container-id-2 pre{padding: 0;}#sk-container-id-2 div.sk-toggleable {background-color: white;}#sk-container-id-2 label.sk-toggleable__label {cursor: pointer;display: block;width: 100%;margin-bottom: 0;padding: 0.3em;box-sizing: border-box;text-align: center;}#sk-container-id-2 label.sk-toggleable__label-arrow:before {content: \"▸\";float: left;margin-right: 0.25em;color: #696969;}#sk-container-id-2 label.sk-toggleable__label-arrow:hover:before {color: black;}#sk-container-id-2 div.sk-estimator:hover label.sk-toggleable__label-arrow:before {color: black;}#sk-container-id-2 div.sk-toggleable__content {max-height: 0;max-width: 0;overflow: hidden;text-align: left;background-color: #f0f8ff;}#sk-container-id-2 div.sk-toggleable__content pre {margin: 0.2em;color: black;border-radius: 0.25em;background-color: #f0f8ff;}#sk-container-id-2 input.sk-toggleable__control:checked~div.sk-toggleable__content {max-height: 200px;max-width: 100%;overflow: auto;}#sk-container-id-2 input.sk-toggleable__control:checked~label.sk-toggleable__label-arrow:before {content: \"▾\";}#sk-container-id-2 div.sk-estimator input.sk-toggleable__control:checked~label.sk-toggleable__label {background-color: #d4ebff;}#sk-container-id-2 div.sk-label input.sk-toggleable__control:checked~label.sk-toggleable__label {background-color: #d4ebff;}#sk-container-id-2 input.sk-hidden--visually {border: 0;clip: rect(1px 1px 1px 1px);clip: rect(1px, 1px, 1px, 1px);height: 1px;margin: -1px;overflow: hidden;padding: 0;position: absolute;width: 1px;}#sk-container-id-2 div.sk-estimator {font-family: monospace;background-color: #f0f8ff;border: 1px dotted black;border-radius: 0.25em;box-sizing: border-box;margin-bottom: 0.5em;}#sk-container-id-2 div.sk-estimator:hover {background-color: #d4ebff;}#sk-container-id-2 div.sk-parallel-item::after {content: \"\";width: 100%;border-bottom: 1px solid gray;flex-grow: 1;}#sk-container-id-2 div.sk-label:hover label.sk-toggleable__label {background-color: #d4ebff;}#sk-container-id-2 div.sk-serial::before {content: \"\";position: absolute;border-left: 1px solid gray;box-sizing: border-box;top: 0;bottom: 0;left: 50%;z-index: 0;}#sk-container-id-2 div.sk-serial {display: flex;flex-direction: column;align-items: center;background-color: white;padding-right: 0.2em;padding-left: 0.2em;position: relative;}#sk-container-id-2 div.sk-item {position: relative;z-index: 1;}#sk-container-id-2 div.sk-parallel {display: flex;align-items: stretch;justify-content: center;background-color: white;position: relative;}#sk-container-id-2 div.sk-item::before, #sk-container-id-2 div.sk-parallel-item::before {content: \"\";position: absolute;border-left: 1px solid gray;box-sizing: border-box;top: 0;bottom: 0;left: 50%;z-index: -1;}#sk-container-id-2 div.sk-parallel-item {display: flex;flex-direction: column;z-index: 1;position: relative;background-color: white;}#sk-container-id-2 div.sk-parallel-item:first-child::after {align-self: flex-end;width: 50%;}#sk-container-id-2 div.sk-parallel-item:last-child::after {align-self: flex-start;width: 50%;}#sk-container-id-2 div.sk-parallel-item:only-child::after {width: 0;}#sk-container-id-2 div.sk-dashed-wrapped {border: 1px dashed gray;margin: 0 0.4em 0.5em 0.4em;box-sizing: border-box;padding-bottom: 0.4em;background-color: white;}#sk-container-id-2 div.sk-label label {font-family: monospace;font-weight: bold;display: inline-block;line-height: 1.2em;}#sk-container-id-2 div.sk-label-container {text-align: center;}#sk-container-id-2 div.sk-container {/* jupyter's `normalize.less` sets `[hidden] { display: none; }` but bootstrap.min.css set `[hidden] { display: none !important; }` so we also need the `!important` here to be able to override the default hidden behavior on the sphinx rendered scikit-learn.org. See: https://github.com/scikit-learn/scikit-learn/issues/21755 */display: inline-block !important;position: relative;}#sk-container-id-2 div.sk-text-repr-fallback {display: none;}</style><div id=\"sk-container-id-2\" class=\"sk-top-container\"><div class=\"sk-text-repr-fallback\"><pre>RandomForestRegressor(random_state=12)</pre><b>In a Jupyter environment, please rerun this cell to show the HTML representation or trust the notebook. <br />On GitHub, the HTML representation is unable to render, please try loading this page with nbviewer.org.</b></div><div class=\"sk-container\" hidden><div class=\"sk-item\"><div class=\"sk-estimator sk-toggleable\"><input class=\"sk-toggleable__control sk-hidden--visually\" id=\"sk-estimator-id-2\" type=\"checkbox\" checked><label for=\"sk-estimator-id-2\" class=\"sk-toggleable__label sk-toggleable__label-arrow\">RandomForestRegressor</label><div class=\"sk-toggleable__content\"><pre>RandomForestRegressor(random_state=12)</pre></div></div></div></div></div>"
      ],
      "text/plain": [
       "RandomForestRegressor(random_state=12)"
      ]
     },
     "execution_count": 8,
     "metadata": {},
     "output_type": "execute_result"
    }
   ],
   "source": [
    "rf_model = RandomForestRegressor(random_state=12)\n",
    "rf_model.fit(X_train, y_train)"
   ]
  },
  {
   "cell_type": "code",
   "execution_count": 9,
   "id": "1be13971",
   "metadata": {
    "scrolled": true
   },
   "outputs": [
    {
     "data": {
      "text/plain": [
       "array([0.09789925, 0.11278723, 0.08307052, 0.11712795, 0.0981441 ,\n",
       "       0.08811661, 0.00581372, 0.0566346 , 0.00098191, 0.00027909,\n",
       "       0.00068188, 0.00051413, 0.00142314, 0.00162071, 0.00091216,\n",
       "       0.00041734, 0.00144608, 0.00094297, 0.00139812, 0.00077709,\n",
       "       0.00217232, 0.00121367, 0.00279308, 0.00142792, 0.00225414,\n",
       "       0.00108612, 0.00106908, 0.00134651, 0.00105487, 0.00146922,\n",
       "       0.0006932 , 0.00176598, 0.00022112, 0.00024055, 0.00199491,\n",
       "       0.00051931, 0.00179758, 0.00119233, 0.00169602, 0.00052069,\n",
       "       0.00079336, 0.00045715, 0.0002813 , 0.00127752, 0.00076696,\n",
       "       0.00086798, 0.00216903, 0.00143458, 0.00082595, 0.00072954,\n",
       "       0.0005899 , 0.00111582, 0.00038278, 0.00084669, 0.00188962,\n",
       "       0.00089653, 0.00294213, 0.00169561, 0.0035558 , 0.00105932,\n",
       "       0.00065288, 0.00096379, 0.00042501, 0.00059777, 0.00091921,\n",
       "       0.0012854 , 0.00040242, 0.00230013, 0.00491967, 0.00178999,\n",
       "       0.00022965, 0.00126994, 0.00020814, 0.0003359 , 0.00071898,\n",
       "       0.00045948, 0.00207609, 0.00145263, 0.00210196, 0.00060226,\n",
       "       0.0029133 , 0.00101024, 0.00224401, 0.0004338 , 0.00086414,\n",
       "       0.00216944, 0.00015774, 0.00075767, 0.00236072, 0.00164447,\n",
       "       0.0022961 , 0.00091757, 0.00105333, 0.00135892, 0.00031834,\n",
       "       0.00044601, 0.00101006, 0.00124484, 0.00155272, 0.00092598,\n",
       "       0.00079404, 0.00125123, 0.00081796, 0.00090378, 0.00065001,\n",
       "       0.00102771, 0.00544744, 0.0026076 , 0.00484494, 0.00332207,\n",
       "       0.00158366, 0.00229198, 0.00180358, 0.00178209, 0.00400594,\n",
       "       0.00240104, 0.00146771, 0.00081539, 0.00352887, 0.00240018,\n",
       "       0.001905  , 0.0020856 , 0.00333394, 0.00342456, 0.00286656,\n",
       "       0.00201638, 0.00272355, 0.00252268, 0.00463193, 0.00242026,\n",
       "       0.00320007, 0.00132818, 0.00064517, 0.00206785, 0.00131546,\n",
       "       0.00082461, 0.00106841, 0.00143432, 0.00124887, 0.00419639,\n",
       "       0.00152883, 0.00122241, 0.00178633, 0.00089214, 0.00160775,\n",
       "       0.00163815, 0.00303064, 0.00086424, 0.00193339, 0.00148699,\n",
       "       0.00133193, 0.00260515, 0.00217792, 0.00062443, 0.00170051,\n",
       "       0.00063267, 0.00252826, 0.00186734, 0.00109709, 0.00100251,\n",
       "       0.00105372, 0.00052634, 0.00119494, 0.00185369, 0.00049583,\n",
       "       0.00059438, 0.00129474, 0.00110676, 0.00229851, 0.00160501,\n",
       "       0.00165342, 0.00135589, 0.001699  , 0.00061737, 0.00090912,\n",
       "       0.00136839, 0.00073555, 0.00061161, 0.00206686, 0.0012781 ,\n",
       "       0.00076877, 0.00118449, 0.00050449, 0.00108003, 0.00166833,\n",
       "       0.0005312 , 0.00537641, 0.00182363, 0.00074507, 0.00271308,\n",
       "       0.00139615, 0.00272268, 0.00088804, 0.00029866, 0.00282485,\n",
       "       0.00198937, 0.00119246, 0.00202053, 0.00036563, 0.00261226,\n",
       "       0.00563491, 0.00049377, 0.00401914, 0.00054054, 0.00224237,\n",
       "       0.00357757, 0.00177494, 0.00027566, 0.0005196 , 0.00288935,\n",
       "       0.00103176, 0.00091524, 0.00089842, 0.00066848, 0.00188315,\n",
       "       0.00426521, 0.00238579, 0.0005492 , 0.00056354, 0.00201435,\n",
       "       0.0001682 , 0.00076249, 0.00028263, 0.0021927 , 0.00084308,\n",
       "       0.00075611, 0.00362849, 0.00192799, 0.00057035, 0.0022328 ,\n",
       "       0.00041561])"
      ]
     },
     "execution_count": 9,
     "metadata": {},
     "output_type": "execute_result"
    }
   ],
   "source": [
    "feature_importances = rf_model.feature_importances_\n",
    "feature_importances"
   ]
  },
  {
   "cell_type": "markdown",
   "id": "618b668e",
   "metadata": {},
   "source": [
    "## Step 3: Fit the Support Vector Regressor model"
   ]
  },
  {
   "cell_type": "markdown",
   "id": "7acfa724",
   "metadata": {},
   "source": [
    "<div class=\"alert alert-block alert-info\" style=\"font-size: 25px; font-weight: bold;\">\n",
    "    <p>Support Vector Regressor formula:</p>\n",
    "    <p>Y = $f(X) = \\sum_{i=1}^{n} \\alpha_i K(X, X_i) + b$</p>\n",
    "    where $K(X, X_i)$ is the kernel function, $\\alpha_i$ are the Lagrange multipliers, $b$ is the bias term, and $n$ is the number of support vectors.\n",
    "</div>"
   ]
  },
  {
   "cell_type": "code",
   "execution_count": 10,
   "id": "256132b4",
   "metadata": {},
   "outputs": [
    {
     "data": {
      "text/html": [
       "<style>#sk-container-id-3 {color: black;}#sk-container-id-3 pre{padding: 0;}#sk-container-id-3 div.sk-toggleable {background-color: white;}#sk-container-id-3 label.sk-toggleable__label {cursor: pointer;display: block;width: 100%;margin-bottom: 0;padding: 0.3em;box-sizing: border-box;text-align: center;}#sk-container-id-3 label.sk-toggleable__label-arrow:before {content: \"▸\";float: left;margin-right: 0.25em;color: #696969;}#sk-container-id-3 label.sk-toggleable__label-arrow:hover:before {color: black;}#sk-container-id-3 div.sk-estimator:hover label.sk-toggleable__label-arrow:before {color: black;}#sk-container-id-3 div.sk-toggleable__content {max-height: 0;max-width: 0;overflow: hidden;text-align: left;background-color: #f0f8ff;}#sk-container-id-3 div.sk-toggleable__content pre {margin: 0.2em;color: black;border-radius: 0.25em;background-color: #f0f8ff;}#sk-container-id-3 input.sk-toggleable__control:checked~div.sk-toggleable__content {max-height: 200px;max-width: 100%;overflow: auto;}#sk-container-id-3 input.sk-toggleable__control:checked~label.sk-toggleable__label-arrow:before {content: \"▾\";}#sk-container-id-3 div.sk-estimator input.sk-toggleable__control:checked~label.sk-toggleable__label {background-color: #d4ebff;}#sk-container-id-3 div.sk-label input.sk-toggleable__control:checked~label.sk-toggleable__label {background-color: #d4ebff;}#sk-container-id-3 input.sk-hidden--visually {border: 0;clip: rect(1px 1px 1px 1px);clip: rect(1px, 1px, 1px, 1px);height: 1px;margin: -1px;overflow: hidden;padding: 0;position: absolute;width: 1px;}#sk-container-id-3 div.sk-estimator {font-family: monospace;background-color: #f0f8ff;border: 1px dotted black;border-radius: 0.25em;box-sizing: border-box;margin-bottom: 0.5em;}#sk-container-id-3 div.sk-estimator:hover {background-color: #d4ebff;}#sk-container-id-3 div.sk-parallel-item::after {content: \"\";width: 100%;border-bottom: 1px solid gray;flex-grow: 1;}#sk-container-id-3 div.sk-label:hover label.sk-toggleable__label {background-color: #d4ebff;}#sk-container-id-3 div.sk-serial::before {content: \"\";position: absolute;border-left: 1px solid gray;box-sizing: border-box;top: 0;bottom: 0;left: 50%;z-index: 0;}#sk-container-id-3 div.sk-serial {display: flex;flex-direction: column;align-items: center;background-color: white;padding-right: 0.2em;padding-left: 0.2em;position: relative;}#sk-container-id-3 div.sk-item {position: relative;z-index: 1;}#sk-container-id-3 div.sk-parallel {display: flex;align-items: stretch;justify-content: center;background-color: white;position: relative;}#sk-container-id-3 div.sk-item::before, #sk-container-id-3 div.sk-parallel-item::before {content: \"\";position: absolute;border-left: 1px solid gray;box-sizing: border-box;top: 0;bottom: 0;left: 50%;z-index: -1;}#sk-container-id-3 div.sk-parallel-item {display: flex;flex-direction: column;z-index: 1;position: relative;background-color: white;}#sk-container-id-3 div.sk-parallel-item:first-child::after {align-self: flex-end;width: 50%;}#sk-container-id-3 div.sk-parallel-item:last-child::after {align-self: flex-start;width: 50%;}#sk-container-id-3 div.sk-parallel-item:only-child::after {width: 0;}#sk-container-id-3 div.sk-dashed-wrapped {border: 1px dashed gray;margin: 0 0.4em 0.5em 0.4em;box-sizing: border-box;padding-bottom: 0.4em;background-color: white;}#sk-container-id-3 div.sk-label label {font-family: monospace;font-weight: bold;display: inline-block;line-height: 1.2em;}#sk-container-id-3 div.sk-label-container {text-align: center;}#sk-container-id-3 div.sk-container {/* jupyter's `normalize.less` sets `[hidden] { display: none; }` but bootstrap.min.css set `[hidden] { display: none !important; }` so we also need the `!important` here to be able to override the default hidden behavior on the sphinx rendered scikit-learn.org. See: https://github.com/scikit-learn/scikit-learn/issues/21755 */display: inline-block !important;position: relative;}#sk-container-id-3 div.sk-text-repr-fallback {display: none;}</style><div id=\"sk-container-id-3\" class=\"sk-top-container\"><div class=\"sk-text-repr-fallback\"><pre>SVR(kernel=&#x27;linear&#x27;)</pre><b>In a Jupyter environment, please rerun this cell to show the HTML representation or trust the notebook. <br />On GitHub, the HTML representation is unable to render, please try loading this page with nbviewer.org.</b></div><div class=\"sk-container\" hidden><div class=\"sk-item\"><div class=\"sk-estimator sk-toggleable\"><input class=\"sk-toggleable__control sk-hidden--visually\" id=\"sk-estimator-id-3\" type=\"checkbox\" checked><label for=\"sk-estimator-id-3\" class=\"sk-toggleable__label sk-toggleable__label-arrow\">SVR</label><div class=\"sk-toggleable__content\"><pre>SVR(kernel=&#x27;linear&#x27;)</pre></div></div></div></div></div>"
      ],
      "text/plain": [
       "SVR(kernel='linear')"
      ]
     },
     "execution_count": 10,
     "metadata": {},
     "output_type": "execute_result"
    }
   ],
   "source": [
    "svr_model = SVR(kernel=\"linear\")\n",
    "svr_model.fit(X_train, y_train)"
   ]
  },
  {
   "cell_type": "code",
   "execution_count": 11,
   "id": "f1c33a62",
   "metadata": {
    "scrolled": true
   },
   "outputs": [
    {
     "data": {
      "text/plain": [
       "array([[-6.24253919e-04, -7.96445349e-02, -2.04086339e-01,\n",
       "         2.80930932e-03,  1.73242099e-01, -1.16952894e-01,\n",
       "        -7.57379957e-01, -1.30793083e-01, -3.60207036e-01,\n",
       "         1.00000000e+00, -1.25202168e-01,  1.41916753e+00,\n",
       "         1.00000000e+00, -1.86826526e-01, -1.54165109e-01,\n",
       "        -8.33372797e-01, -2.86958218e+00,  0.00000000e+00,\n",
       "        -2.00000000e+00, -2.00000000e+00,  0.00000000e+00,\n",
       "         5.68077825e-01,  1.48857166e-01, -7.77064564e-01,\n",
       "        -1.00000000e+00,  2.21966773e-01,  0.00000000e+00,\n",
       "         1.00000000e+00,  1.12095080e+00, -7.18307127e-01,\n",
       "         0.00000000e+00,  0.00000000e+00,  0.00000000e+00,\n",
       "        -1.54952682e+00, -5.54339011e-01,  0.00000000e+00,\n",
       "         1.00000000e+00, -6.60328444e-02, -4.19645532e-01,\n",
       "         2.00000000e+00,  0.00000000e+00,  1.00000000e+00,\n",
       "         0.00000000e+00,  1.06370080e-01,  1.00000000e+00,\n",
       "        -1.00000000e+00, -1.00000000e+00, -1.00000000e+00,\n",
       "        -1.00000000e+00, -4.09102853e-01,  0.00000000e+00,\n",
       "         9.50919637e-02,  2.14448219e-01,  9.86396372e-02,\n",
       "         4.55843269e-01, -1.39099215e-02, -1.22738203e+00,\n",
       "        -6.29910184e-01,  2.00000000e+00,  1.08193987e+00,\n",
       "         0.00000000e+00, -1.56577841e-01,  9.38850981e-01,\n",
       "         1.00000000e+00, -1.00000000e+00,  2.00000000e+00,\n",
       "         8.23918318e-01,  9.54029978e-01,  3.89767841e-01,\n",
       "        -4.67117189e-01,  0.00000000e+00, -1.00000000e+00,\n",
       "         1.00000000e+00, -5.91085105e-01,  8.19971868e-01,\n",
       "         1.00000000e+00,  2.00000000e+00, -8.99834435e-01,\n",
       "        -2.60610822e-01,  1.00000000e+00, -1.55052348e+00,\n",
       "        -1.00000000e+00,  0.00000000e+00,  0.00000000e+00,\n",
       "         1.00000000e+00,  2.00000000e+00, -1.19941787e+00,\n",
       "         8.90101324e-01, -3.32342958e-01, -6.52012622e-01,\n",
       "        -2.00000000e+00,  6.46729729e-01, -2.21986890e+00,\n",
       "         1.77154768e+00,  4.61034068e-01,  0.00000000e+00,\n",
       "        -1.48415381e+00, -2.31133437e-01, -7.96795846e-01,\n",
       "         1.08735060e+00, -7.38485452e-01, -5.48103828e-01,\n",
       "         0.00000000e+00, -2.93373207e-01,  0.00000000e+00,\n",
       "        -3.71090177e-01,  0.00000000e+00, -5.80832473e-01,\n",
       "        -3.52584201e-01, -1.05641228e+00,  5.15846192e-01,\n",
       "        -3.62908208e-01,  1.17133566e-01, -1.38781036e-01,\n",
       "         6.06608901e-02,  0.00000000e+00, -8.70697604e-02,\n",
       "        -2.62576127e-01, -2.16657994e-02, -4.63282981e-01,\n",
       "        -6.60328444e-02,  8.70095181e-01,  4.50473180e-01,\n",
       "        -4.19645532e-01,  2.21966773e-01,  9.70884679e-01,\n",
       "        -2.61567399e-01,  1.41018845e+00, -3.18260023e-01,\n",
       "        -2.84349497e-01, -5.53984029e-01,  1.71309526e+00,\n",
       "        -1.00000000e+00, -1.04597002e+00, -7.78033227e-01,\n",
       "         0.00000000e+00,  5.15846192e-01,  0.00000000e+00,\n",
       "         0.00000000e+00,  3.62350250e-01, -1.48939842e-01,\n",
       "         0.00000000e+00, -6.60328444e-02,  0.00000000e+00,\n",
       "         8.00582133e-01,  0.00000000e+00,  3.91054892e+00,\n",
       "        -1.00000000e+00,  1.70532561e-01, -1.58850002e+00,\n",
       "        -7.85551781e-01, -2.00000000e+00, -5.48103828e-01,\n",
       "        -1.90136036e+00, -1.26061082e+00, -8.33372797e-01,\n",
       "         0.00000000e+00, -1.00000000e+00,  1.00000000e+00,\n",
       "         1.70662679e+00, -1.00000000e+00, -1.00000000e+00,\n",
       "         1.11571552e-01,  7.72320248e-01, -2.31133437e-01,\n",
       "         0.00000000e+00, -8.19268990e-01,  2.08625564e+00,\n",
       "        -2.00000000e+00,  1.11557706e+00,  1.00000000e+00,\n",
       "         8.15490400e-01,  0.00000000e+00,  1.06370080e-01,\n",
       "        -2.28452317e-01,  2.00000000e+00, -2.27382033e-01,\n",
       "         8.13173474e-01, -4.09102853e-01,  1.00000000e+00,\n",
       "         6.67657042e-01, -1.73848545e+00,  0.00000000e+00,\n",
       "        -6.29910184e-01,  4.42343549e-01,  0.00000000e+00,\n",
       "        -1.00000000e+00,  1.00000000e+00,  1.00000000e+00,\n",
       "         8.92694881e-02,  8.74797832e-01, -8.79049203e-01,\n",
       "         1.00000000e+00, -1.00000000e+00,  3.89767841e-01,\n",
       "         9.50919637e-02,  0.00000000e+00,  6.46729729e-01,\n",
       "         1.00000000e+00,  1.00000000e+00,  1.00000000e+00,\n",
       "         1.00000000e+00,  1.00000000e+00,  3.15030347e-01,\n",
       "        -1.00000000e+00,  9.38850981e-01, -2.00000000e+00,\n",
       "        -1.00000000e+00,  1.00000000e+00, -2.62755183e+00,\n",
       "        -2.37109018e+00,  0.00000000e+00,  1.48857166e-01,\n",
       "         0.00000000e+00,  0.00000000e+00,  1.98454701e+00,\n",
       "        -1.65201262e+00,  1.00000000e+00, -2.00000000e+00,\n",
       "         0.00000000e+00,  5.94600830e-01, -1.00000000e+00,\n",
       "         1.00000000e+00, -1.00000000e+00, -1.30576830e+00,\n",
       "         8.42791824e-03,  1.00000000e+00,  1.00000000e+00,\n",
       "        -2.00000000e+00, -3.01073064e+00, -1.00000000e+00]])"
      ]
     },
     "execution_count": 11,
     "metadata": {},
     "output_type": "execute_result"
    }
   ],
   "source": [
    "svr_coef = svr_model.coef_\n",
    "svr_coef"
   ]
  },
  {
   "cell_type": "code",
   "execution_count": 12,
   "id": "bc33e2f1",
   "metadata": {},
   "outputs": [
    {
     "data": {
      "text/plain": [
       "array([1533.55651445])"
      ]
     },
     "execution_count": 12,
     "metadata": {},
     "output_type": "execute_result"
    }
   ],
   "source": [
    "svr_intercept = svr_model.intercept_\n",
    "svr_intercept"
   ]
  },
  {
   "cell_type": "markdown",
   "id": "c443b6e5",
   "metadata": {},
   "source": [
    "## Step 4: Model Evaluation"
   ]
  },
  {
   "cell_type": "code",
   "execution_count": 13,
   "id": "de276645",
   "metadata": {},
   "outputs": [],
   "source": [
    "models = {'Linear Regression': linear_model, 'Random Forest': rf_model, 'SVR': svr_model}"
   ]
  },
  {
   "cell_type": "code",
   "execution_count": 14,
   "id": "667429a8",
   "metadata": {},
   "outputs": [],
   "source": [
    "# Store metrics\n",
    "results = {}\n",
    "\n",
    "for model_name, model in models.items():\n",
    "    # Predictions\n",
    "    y_pred = model.predict(X_test)\n",
    "    \n",
    "    # Calculate evaluation metrics\n",
    "    mse = mean_squared_error(y_test, y_pred)\n",
    "    r2 = r2_score(y_test, y_pred)\n",
    "    \n",
    "    # Store the results\n",
    "    results[model_name] = {'MSE': mse, 'R2': r2}\n"
   ]
  },
  {
   "cell_type": "code",
   "execution_count": 15,
   "id": "b0b07e1c",
   "metadata": {},
   "outputs": [
    {
     "name": "stdout",
     "output_type": "stream",
     "text": [
      "                        MSE        R2\n",
      "Linear Regression  1.403132 -0.456589\n",
      "Random Forest      0.980668 -0.018030\n",
      "SVR                3.593633 -2.730545\n"
     ]
    }
   ],
   "source": [
    "# Display the results\n",
    "results_df = pd.DataFrame(results).T\n",
    "print(results_df)"
   ]
  },
  {
   "cell_type": "code",
   "execution_count": 16,
   "id": "efd8501a",
   "metadata": {},
   "outputs": [],
   "source": [
    "# Identify the best model based on R2 score\n",
    "best_model_name = results_df['R2'].idxmax()\n",
    "best_model = models[best_model_name]"
   ]
  },
  {
   "cell_type": "markdown",
   "id": "1f36992f",
   "metadata": {},
   "source": [
    "<div class=\"alert alert-block alert-info\" style=\"font-size: 25px; font-weight: bold;\">\n",
    "    <p>note:</p>\n",
    "    <p>R2 score, which can range from -∞ to 1. A higher R2 score indicates a better fit of the model to the data.</p>\n",
    "    An R2 score of 1 means a perfect fit.\n",
    "</div>"
   ]
  },
  {
   "cell_type": "code",
   "execution_count": 17,
   "id": "051d5a11",
   "metadata": {},
   "outputs": [
    {
     "name": "stdout",
     "output_type": "stream",
     "text": [
      "The best model is: Random Forest with R2 Score: -0.018030222619756398\n"
     ]
    }
   ],
   "source": [
    "print(f'The best model is: {best_model_name} with R2 Score: {results_df.loc[best_model_name, \"R2\"]}')"
   ]
  },
  {
   "cell_type": "markdown",
   "id": "1f83b42f",
   "metadata": {},
   "source": [
    "## 9. Conclusion\n",
    "\n",
    "We have considered various machine learning models. We have engineered several features from the provided data, including:\n",
    "\n",
    "#### Categorical Features: ProductName, Category, City, Month\n",
    "#### Numerical Features: Price, Rating, NumReviews, StockQuantity, Discount\n",
    "\n",
    "This is a regression problem, where we aim to predict a continuous numerical value (Sales). We have employed the following models:\n",
    "\n",
    "### Linear Regression\n",
    "### Random Forest Regression\n",
    "### Support Vector Regression (SVR)\n",
    "\n",
    "To evaluate the performance of each model, we have split the dataset into training and validation sets. We have assessed the models based on Mean Squared Error (MSE) and R-squared (R²) metrics. The R² score indicates the proportion of variance in the dependent variable explained by the independent variables.\n",
    "\n",
    "After comparing the performance metrics, we have determined that **Random Forest Regression** is the best-performing model for our dataset. It achieves a lower MSE and a higher R² score compared to the other models. This suggests that Random Forest is better able to capture the complex relationships between the features and the target variable."
   ]
  },
  {
   "cell_type": "code",
   "execution_count": null,
   "id": "8539cb91",
   "metadata": {},
   "outputs": [],
   "source": []
  }
 ],
 "metadata": {
  "kernelspec": {
   "display_name": "Python 3 (ipykernel)",
   "language": "python",
   "name": "python3"
  },
  "language_info": {
   "codemirror_mode": {
    "name": "ipython",
    "version": 3
   },
   "file_extension": ".py",
   "mimetype": "text/x-python",
   "name": "python",
   "nbconvert_exporter": "python",
   "pygments_lexer": "ipython3",
   "version": "3.11.5"
  }
 },
 "nbformat": 4,
 "nbformat_minor": 5
}
