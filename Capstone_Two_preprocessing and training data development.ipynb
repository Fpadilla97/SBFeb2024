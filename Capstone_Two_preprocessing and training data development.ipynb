{
 "cells": [
  {
   "cell_type": "code",
   "execution_count": 2,
   "id": "3f629979",
   "metadata": {},
   "outputs": [],
   "source": [
    "import pandas as pd\n",
    "from sklearn.model_selection import train_test_split\n",
    "from sklearn.preprocessing import StandardScaler"
   ]
  },
  {
   "cell_type": "code",
   "execution_count": 3,
   "id": "8632f77d",
   "metadata": {},
   "outputs": [],
   "source": [
    "ecom = pd.read_csv(\"Ecommerce_product.csv\")  # Adjust the path accordingly"
   ]
  },
  {
   "cell_type": "code",
   "execution_count": 4,
   "id": "2ed68c0c",
   "metadata": {},
   "outputs": [],
   "source": [
    "# We assume 'Category' and 'City' are the categorical columns based on prior EDA\n",
    "ecom_dummies = pd.get_dummies(ecom, columns=['Category', 'City'], drop_first=True)"
   ]
  },
  {
   "cell_type": "code",
   "execution_count": 5,
   "id": "42319011",
   "metadata": {},
   "outputs": [],
   "source": [
    "#Standardize numeric features\n",
    "# Selecting numeric columns to standardize\n",
    "numeric_columns = ['Price', 'Rating', 'NumReviews', 'StockQuantity', 'Discount', 'Sales']"
   ]
  },
  {
   "cell_type": "code",
   "execution_count": 6,
   "id": "f4ba1048",
   "metadata": {},
   "outputs": [],
   "source": [
    "# Initialize the StandardScaler\n",
    "scaler = StandardScaler()"
   ]
  },
  {
   "cell_type": "code",
   "execution_count": 7,
   "id": "6b6f565b",
   "metadata": {},
   "outputs": [],
   "source": [
    "# Fit and transform the numeric columns\n",
    "ecom_dummies[numeric_columns] = scaler.fit_transform(ecom_dummies[numeric_columns])"
   ]
  },
  {
   "cell_type": "code",
   "execution_count": 8,
   "id": "5d8cbc9c",
   "metadata": {},
   "outputs": [],
   "source": [
    "#Split the data into training and testing sets\n",
    "# Here, 'Sales' is assumed as the target variable\n",
    "X = ecom_dummies.drop('Sales', axis=1)\n",
    "y = ecom_dummies['Sales']"
   ]
  },
  {
   "cell_type": "code",
   "execution_count": 9,
   "id": "f031a12f",
   "metadata": {},
   "outputs": [],
   "source": [
    "# Splitting the data into 80% training and 20% testing\n",
    "X_train, X_test, y_train, y_test = train_test_split(X, y, test_size=0.2, random_state=42)"
   ]
  },
  {
   "cell_type": "code",
   "execution_count": 10,
   "id": "fb4b6b02",
   "metadata": {},
   "outputs": [],
   "source": [
    "# Optional: Save the preprocessed data for later use\n",
    "X_train.to_csv(\"X_train_preprocessed.csv\", index=False)\n",
    "X_test.to_csv(\"X_test_preprocessed.csv\", index=False)\n",
    "y_train.to_csv(\"y_train_preprocessed.csv\", index=False)\n",
    "y_test.to_csv(\"y_test_preprocessed.csv\", index=False)"
   ]
  }
 ],
 "metadata": {
  "kernelspec": {
   "display_name": "Python 3 (ipykernel)",
   "language": "python",
   "name": "python3"
  },
  "language_info": {
   "codemirror_mode": {
    "name": "ipython",
    "version": 3
   },
   "file_extension": ".py",
   "mimetype": "text/x-python",
   "name": "python",
   "nbconvert_exporter": "python",
   "pygments_lexer": "ipython3",
   "version": "3.11.5"
  }
 },
 "nbformat": 4,
 "nbformat_minor": 5
}
